{
 "cells": [
  {
   "cell_type": "markdown",
   "metadata": {},
   "source": [
    "# Applications of Divide and Conquer - Implementation of finding of maxima and minima"
   ]
  },
  {
   "cell_type": "code",
   "execution_count": 6,
   "metadata": {},
   "outputs": [],
   "source": [
    "# Applications of Divide and Conquer - Implementation of finding of maxima and minima\n",
    "\n",
    "def findMaxandMin(arr , i , j):\n",
    "    # Small Problem\n",
    "    if i == j:\n",
    "        max_val = arr[i]\n",
    "        min_val = arr[j]\n",
    "    elif i == j - 1 :\n",
    "        if arr[i] < arr[j]:\n",
    "            max_val = arr[j]\n",
    "            min_val = arr[i]\n",
    "        else:\n",
    "            max_val = arr[i]\n",
    "            min_val = arr[j]\n",
    "    # Big Problem     \n",
    "    else:\n",
    "        # Divide part\n",
    "        mid = i + (j-i) // 2\n",
    "\n",
    "        # Conquer part by recursion\n",
    "        max_l , min_l = findMaxandMin(arr , i , mid)\n",
    "        max_r , min_r = findMaxandMin(arr , mid+1 , j)\n",
    "\n",
    "        # Combine part\n",
    "        # finding max and min value\n",
    "        if max_l < max_r:\n",
    "            max_val = max_r\n",
    "        else:\n",
    "            max_val = max_l\n",
    "\n",
    "        if min_l < min_r:\n",
    "            min_val = min_l\n",
    "        else:\n",
    "            min_val = min_r\n",
    "            \n",
    "    return max_val , min_val\n",
    "\n"
   ]
  },
  {
   "cell_type": "code",
   "execution_count": 5,
   "metadata": {},
   "outputs": [
    {
     "name": "stdout",
     "output_type": "stream",
     "text": [
      "maxima and minima Value is that : - 200 -2\n"
     ]
    }
   ],
   "source": [
    "\n",
    "\n",
    "# Driver Code \n",
    "\n",
    "arr = [1,2,5,4,7,8,9,6,3,200,-2]\n",
    "i = 0\n",
    "j = len(arr)-1\n",
    "\n",
    "# function calling\n",
    "\n",
    "max_val , min_val = findMaxandMin(arr , i , j)\n",
    "print('maxima and minima Value is that : -' ,  max_val , min_val)"
   ]
  }
 ],
 "metadata": {
  "kernelspec": {
   "display_name": "base",
   "language": "python",
   "name": "python3"
  },
  "language_info": {
   "codemirror_mode": {
    "name": "ipython",
    "version": 3
   },
   "file_extension": ".py",
   "mimetype": "text/x-python",
   "name": "python",
   "nbconvert_exporter": "python",
   "pygments_lexer": "ipython3",
   "version": "3.11.4"
  }
 },
 "nbformat": 4,
 "nbformat_minor": 2
}
