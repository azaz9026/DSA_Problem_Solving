{
 "cells": [
  {
   "cell_type": "markdown",
   "metadata": {},
   "source": [
    "# Applications of Divide and Conquer - Finding of power of an element with its Implementation"
   ]
  },
  {
   "cell_type": "code",
   "execution_count": 8,
   "metadata": {},
   "outputs": [],
   "source": [
    "# Function Definition / \n",
    "def FindPowerOfElement(a , n):\n",
    "   # Base case: small problem\n",
    "    if n == 1:\n",
    "        return a\n",
    "    elif n < 0:\n",
    "        return 1 / FindPowerOfElement(a, -n)\n",
    "    elif n == 0:\n",
    "        return 1\n",
    "    # Big Problem\n",
    "    else:\n",
    "        # Dividing part\n",
    "        mid = n // 2\n",
    "        # Conquer part by Recursive Call\n",
    "        b = FindPowerOfElement(a , mid)\n",
    "        result = b*b\n",
    "        \n",
    "        # if it even------\n",
    "        if n % 2 == 0:\n",
    "            return result\n",
    "        else:\n",
    "        # if it odd-------\n",
    "            return result * a"
   ]
  },
  {
   "cell_type": "code",
   "execution_count": 15,
   "metadata": {},
   "outputs": [
    {
     "name": "stdout",
     "output_type": "stream",
     "text": [
      "The Power of an element is that :-  4\n"
     ]
    }
   ],
   "source": [
    "# Applications of Divide and Conquer - Finding of power of an element with its Implementation\n",
    "# Divier Code\n",
    "a = 2\n",
    "n = 2\n",
    "\n",
    "#function calling\n",
    "\n",
    "result = FindPowerOfElement(a , n)\n",
    "print('The Power of an element is that :- ' , result)"
   ]
  }
 ],
 "metadata": {
  "kernelspec": {
   "display_name": "base",
   "language": "python",
   "name": "python3"
  },
  "language_info": {
   "codemirror_mode": {
    "name": "ipython",
    "version": 3
   },
   "file_extension": ".py",
   "mimetype": "text/x-python",
   "name": "python",
   "nbconvert_exporter": "python",
   "pygments_lexer": "ipython3",
   "version": "3.11.4"
  }
 },
 "nbformat": 4,
 "nbformat_minor": 2
}
