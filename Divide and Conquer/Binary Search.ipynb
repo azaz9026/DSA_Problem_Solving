{
 "cells": [
  {
   "cell_type": "markdown",
   "metadata": {},
   "source": [
    "# Applications of Divide and Conquer - Implementation of Binary Search"
   ]
  },
  {
   "cell_type": "code",
   "execution_count": 11,
   "metadata": {},
   "outputs": [],
   "source": [
    "def BinarySearch(arr, target, i, j):\n",
    "    while i <= j:\n",
    "        mid = i + (j - i) // 2\n",
    "        if arr[mid] == target:\n",
    "            return mid\n",
    "        elif arr[mid] < target:\n",
    "            return BinarySearch(arr, target, mid + 1, j)\n",
    "        else:\n",
    "            return BinarySearch(arr, target, i, mid - 1)\n",
    "    return -1\n",
    "    \n"
   ]
  },
  {
   "cell_type": "code",
   "execution_count": 15,
   "metadata": {},
   "outputs": [
    {
     "name": "stdout",
     "output_type": "stream",
     "text": [
      "The Search of an element is that :-  -1\n"
     ]
    }
   ],
   "source": [
    "# Applications of Divide and Conquer - Implementation of Binary Search\n",
    "# Divier Code\n",
    "arr = [1,2,4,7,8,9,6,3,5]\n",
    "target = 3\n",
    "i = 0 \n",
    "j = len(arr)-1\n",
    "\n",
    "#function calling\n",
    "\n",
    "result = BinarySearch(arr , target , i , j)\n",
    "print('The Search of an element is that :- ' , result)"
   ]
  },
  {
   "cell_type": "code",
   "execution_count": 18,
   "metadata": {},
   "outputs": [],
   "source": [
    "def BinarySearch(arr, target, i, j):\n",
    "    while i <= j:\n",
    "        mid = i + (j - i) // 2\n",
    "        if arr[mid] == target:\n",
    "            return mid\n",
    "        elif arr[mid] < target:\n",
    "            i = mid + 1\n",
    "        else:\n",
    "            j = mid -1\n",
    "    return -1\n",
    "    "
   ]
  },
  {
   "cell_type": "code",
   "execution_count": 19,
   "metadata": {},
   "outputs": [
    {
     "name": "stdout",
     "output_type": "stream",
     "text": [
      "The Search of an element is that :-  -1\n"
     ]
    }
   ],
   "source": [
    "# Applications of Divide and Conquer - Implementation of Binary Search\n",
    "# Divier Code\n",
    "arr = [1,2,4,7,8,9,6,3,5]\n",
    "target = 3\n",
    "i = 0 \n",
    "j = len(arr)-1\n",
    "\n",
    "#function calling\n",
    "\n",
    "result = BinarySearch(arr , target , i , j)\n",
    "print('The Search of an element is that :- ' , result)"
   ]
  }
 ],
 "metadata": {
  "kernelspec": {
   "display_name": "base",
   "language": "python",
   "name": "python3"
  },
  "language_info": {
   "codemirror_mode": {
    "name": "ipython",
    "version": 3
   },
   "file_extension": ".py",
   "mimetype": "text/x-python",
   "name": "python",
   "nbconvert_exporter": "python",
   "pygments_lexer": "ipython3",
   "version": "3.11.4"
  }
 },
 "nbformat": 4,
 "nbformat_minor": 2
}
