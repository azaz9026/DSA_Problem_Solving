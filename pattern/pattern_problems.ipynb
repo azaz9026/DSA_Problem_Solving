{
 "cells": [
  {
   "cell_type": "code",
   "execution_count": 1,
   "metadata": {},
   "outputs": [
    {
     "name": "stdout",
     "output_type": "stream",
     "text": [
      "2 2 \n",
      "2 2 \n"
     ]
    }
   ],
   "source": [
    "def pattern(n):\n",
    "    for i in range(n):\n",
    "        for j in range(n):\n",
    "            print(n , end=\" \")\n",
    "        print()\n",
    "\n",
    "pattern(2)"
   ]
  },
  {
   "cell_type": "code",
   "execution_count": 2,
   "metadata": {},
   "outputs": [
    {
     "name": "stdout",
     "output_type": "stream",
     "text": [
      "* * * * * \n",
      "* * * * * \n",
      "* * * * * \n",
      "* * * * * \n",
      "* * * * * \n"
     ]
    }
   ],
   "source": [
    "def ster_pattern(n):\n",
    "    for i in range(n):\n",
    "        for j in range(n):\n",
    "            print('*' , end=\" \")\n",
    "        print()\n",
    "\n",
    "\n",
    "n = int(input('Enter the number'))\n",
    "ster_pattern(n)\n"
   ]
  },
  {
   "cell_type": "code",
   "execution_count": 4,
   "metadata": {},
   "outputs": [
    {
     "name": "stdout",
     "output_type": "stream",
     "text": [
      "* \n",
      "* * \n",
      "* * * \n",
      "* * * * \n",
      "* * * * * \n"
     ]
    }
   ],
   "source": [
    "def ster_right_angle_triangle(n):\n",
    "    for i in range(1 , n+1):\n",
    "        for j in range(i):\n",
    "            print(\"*\" , end=\" \")\n",
    "        print()\n",
    "\n",
    "n = int(input(\"Enter the number :- \"))\n",
    "ster_right_angle_triangle(n)"
   ]
  },
  {
   "cell_type": "code",
   "execution_count": 2,
   "metadata": {},
   "outputs": [
    {
     "name": "stdout",
     "output_type": "stream",
     "text": [
      "1 \n",
      "1 2 \n",
      "1 2 3 \n",
      "1 2 3 4 \n",
      "1 2 3 4 5 \n"
     ]
    }
   ],
   "source": [
    "def right_angle_triangle(n):\n",
    "    for i in range(1 , n+1):\n",
    "        for j in range(1 , i+1):\n",
    "            print(j , end=\" \")\n",
    "        print()\n",
    "\n",
    "n = int(input(\"Enter the number :- \"))\n",
    "right_angle_triangle(n)"
   ]
  }
 ],
 "metadata": {
  "kernelspec": {
   "display_name": "base",
   "language": "python",
   "name": "python3"
  },
  "language_info": {
   "codemirror_mode": {
    "name": "ipython",
    "version": 3
   },
   "file_extension": ".py",
   "mimetype": "text/x-python",
   "name": "python",
   "nbconvert_exporter": "python",
   "pygments_lexer": "ipython3",
   "version": "3.10.7"
  }
 },
 "nbformat": 4,
 "nbformat_minor": 2
}
