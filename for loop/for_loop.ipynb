{
 "cells": [
  {
   "cell_type": "code",
   "execution_count": 3,
   "metadata": {},
   "outputs": [
    {
     "name": "stdout",
     "output_type": "stream",
     "text": [
      "1 2 3 4 5 "
     ]
    }
   ],
   "source": [
    "# print number 1 to 5--------------------\n",
    "\n",
    "for i in range(1 , 6):\n",
    "    print(i , end=\" \")"
   ]
  },
  {
   "cell_type": "code",
   "execution_count": 9,
   "metadata": {},
   "outputs": [
    {
     "name": "stdout",
     "output_type": "stream",
     "text": [
      "1 4 9 16 25 "
     ]
    }
   ],
   "source": [
    "# print the squares of number 1 to 5--------------------\n",
    "\n",
    "for i in range(1 , 6):\n",
    "    print(i**2 , end=\" \")"
   ]
  },
  {
   "cell_type": "code",
   "execution_count": 17,
   "metadata": {},
   "outputs": [
    {
     "name": "stdout",
     "output_type": "stream",
     "text": [
      "2 4 6 8 10 "
     ]
    }
   ],
   "source": [
    "# print the even number from 1 to 11-------------------\n",
    "\n",
    "for i in range(1 , 11):\n",
    "    if  i%2 == 0:\n",
    "        print(i , end= \" \")"
   ]
  },
  {
   "cell_type": "code",
   "execution_count": 22,
   "metadata": {},
   "outputs": [
    {
     "name": "stdout",
     "output_type": "stream",
     "text": [
      "the Sum of Total number is that 55\n"
     ]
    }
   ],
   "source": [
    "# print the sum of number 1 to 11-------------------\n",
    "\n",
    "total = 0\n",
    "for i in range(1, 11):\n",
    "    total += i\n",
    "print(f'the Sum of Total number is that {total}')"
   ]
  },
  {
   "cell_type": "code",
   "execution_count": 27,
   "metadata": {},
   "outputs": [
    {
     "name": "stdout",
     "output_type": "stream",
     "text": [
      "n o h t y P "
     ]
    }
   ],
   "source": [
    "# Reverse the word -----------------------------------------\n",
    "\n",
    "word  = \"Python\"\n",
    "\n",
    "for i in range(len(word)-1 , -1 , -1):\n",
    "    print(word[i] , end = \" \")"
   ]
  },
  {
   "cell_type": "code",
   "execution_count": 38,
   "metadata": {},
   "outputs": [
    {
     "name": "stdout",
     "output_type": "stream",
     "text": [
      "Total number of Vowels in a Education is 5 \n"
     ]
    }
   ],
   "source": [
    "# count vowels in the string -----------------------------------------\n",
    "\n",
    "vowels = \"AEIOUaeiou\"\n",
    "\n",
    "word = \"Education\"\n",
    "\n",
    "count = 0\n",
    "for i in word:\n",
    "    if i in  vowels:\n",
    "        count += 1\n",
    "print(f\"Total number of Vowels in a {word} is {count} \")\n",
    "\n"
   ]
  }
 ],
 "metadata": {
  "kernelspec": {
   "display_name": "base",
   "language": "python",
   "name": "python3"
  },
  "language_info": {
   "codemirror_mode": {
    "name": "ipython",
    "version": 3
   },
   "file_extension": ".py",
   "mimetype": "text/x-python",
   "name": "python",
   "nbconvert_exporter": "python",
   "pygments_lexer": "ipython3",
   "version": "3.11.4"
  }
 },
 "nbformat": 4,
 "nbformat_minor": 2
}
