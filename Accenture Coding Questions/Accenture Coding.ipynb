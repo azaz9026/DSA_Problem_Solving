{
 "cells": [
  {
   "cell_type": "markdown",
   "metadata": {},
   "source": [
    "***designed to calculate how many characters in s2 are left after matching and subtracting their count from s1.***"
   ]
  },
  {
   "cell_type": "code",
   "execution_count": 1,
   "metadata": {},
   "outputs": [
    {
     "name": "stdout",
     "output_type": "stream",
     "text": [
      "0\n"
     ]
    }
   ],
   "source": [
    "s1 = input()\n",
    "s2 = input()\n",
    "\n",
    "d = {}\n",
    "\n",
    "# Counting the frequency of each character in s2\n",
    "for i in s2:\n",
    "    d[i] = d.get(i , 0)+1 \n",
    "        \n",
    "for i in s1:\n",
    "    if i in d and d[i] > 0:\n",
    "        d[i] -= 1 \n",
    "\n",
    "\n",
    "# Summing up the remaining unmatched characters in s2\n",
    "\n",
    "ans = 0\n",
    "ans = sum(d[i] for i in d)\n",
    "print(ans)"
   ]
  }
 ],
 "metadata": {
  "kernelspec": {
   "display_name": "base",
   "language": "python",
   "name": "python3"
  },
  "language_info": {
   "codemirror_mode": {
    "name": "ipython",
    "version": 3
   },
   "file_extension": ".py",
   "mimetype": "text/x-python",
   "name": "python",
   "nbconvert_exporter": "python",
   "pygments_lexer": "ipython3",
   "version": "3.11.4"
  }
 },
 "nbformat": 4,
 "nbformat_minor": 2
}
