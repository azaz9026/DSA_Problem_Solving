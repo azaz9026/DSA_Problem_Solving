{
 "cells": [
  {
   "cell_type": "markdown",
   "metadata": {},
   "source": [
    "***designed to calculate how many characters in s2 are left after matching and subtracting their count from s1.***"
   ]
  },
  {
   "cell_type": "code",
   "execution_count": 1,
   "metadata": {},
   "outputs": [
    {
     "name": "stdout",
     "output_type": "stream",
     "text": [
      "0\n"
     ]
    }
   ],
   "source": [
    "s1 = input()\n",
    "s2 = input()\n",
    "\n",
    "d = {}\n",
    "\n",
    "# Counting the frequency of each character in s2\n",
    "for i in s2:\n",
    "    d[i] = d.get(i , 0)+1 \n",
    "        \n",
    "for i in s1:\n",
    "    if i in d and d[i] > 0:\n",
    "        d[i] -= 1 \n",
    "\n",
    "\n",
    "# Summing up the remaining unmatched characters in s2\n",
    "\n",
    "ans = 0\n",
    "ans = sum(d[i] for i in d)\n",
    "print(ans)"
   ]
  },
  {
   "cell_type": "markdown",
   "metadata": {},
   "source": [
    "***floyd's triangle  pattern***"
   ]
  },
  {
   "cell_type": "code",
   "execution_count": 2,
   "metadata": {},
   "outputs": [
    {
     "name": "stdout",
     "output_type": "stream",
     "text": [
      "1  \n",
      "2 3  \n",
      "4 5 6  \n",
      "7 8 9 10  \n",
      "11 12 13 14 15  \n"
     ]
    }
   ],
   "source": [
    "n = int(input())\n",
    "\n",
    "count = 1 \n",
    "\n",
    "for i in range(1 , n+1):\n",
    "    for j in range(1 , i+1):\n",
    "        print(count , end=\" \")\n",
    "        count += 1\n",
    "    print(\" \")"
   ]
  },
  {
   "cell_type": "markdown",
   "metadata": {},
   "source": [
    "***Reverse Largest Increasing Subsequence\"***"
   ]
  },
  {
   "cell_type": "code",
   "execution_count": null,
   "metadata": {},
   "outputs": [],
   "source": [
    "lit = list(map(int, input().split()))  # Input is taken as a list of integers\n",
    "n = len(lit)  # Calculate the length of the list\n",
    "\n",
    "# Initialize the answer and stack with the last element in the list\n",
    "ans = 0\n",
    "stack = []\n",
    "\n",
    "stack.append(lit[n-1])  # Add the last element to the stack\n",
    "ans = lit[n-1]  # Initialize the answer with the last element\n",
    "\n",
    "i = n-2  # Start from the second-last element\n",
    "\n",
    "# Iterate backwards through the list\n",
    "while i >= 0:\n",
    "    if lit[i] > stack[-1]:  # If the current element is greater than the top of the stack\n",
    "        stack.append(lit[i])  # Add it to the stack\n",
    "    i -= 1  # Decrease the index\n",
    "\n",
    "# The stack contains the valid elements, now sum them up\n",
    "ans = sum(stack)\n",
    "\n",
    "print(ans)\n"
   ]
  },
  {
   "cell_type": "markdown",
   "metadata": {},
   "source": [
    "***he length of the longest word in the input string***\n"
   ]
  },
  {
   "cell_type": "code",
   "execution_count": null,
   "metadata": {},
   "outputs": [],
   "source": [
    "string = input()\n",
    "lit = string.split(\" \")\n",
    "\n",
    "maxlen = 0\n",
    "\n",
    "for i in lit:\n",
    "    if len(i) > maxlen:\n",
    "        maxlen = len(i)\n",
    "    \n",
    "print(maxlen)\n",
    "        \n",
    "\n",
    "string = input()\n",
    "lit = string.split()  # You can use split() without arguments to split by any whitespace\n",
    "\n",
    "maxlen = 0\n",
    "\n",
    "for word in lit:\n",
    "    maxlen = max(maxlen, len(word))  # Use max() to simplify updating maxlen\n",
    "\n",
    "print(maxlen)"
   ]
  },
  {
   "cell_type": "markdown",
   "metadata": {},
   "source": [
    "***This will correctly output the minimum distance between x and y, ignoring the element between them. If x or y are not found, it will return -1.***\n"
   ]
  },
  {
   "cell_type": "code",
   "execution_count": null,
   "metadata": {},
   "outputs": [],
   "source": [
    "lst = list(map(int, input().split()))  # Input list of integers\n",
    "\n",
    "x = int(input())  # Input value for x\n",
    "y = int(input())  # Input value for y\n",
    "\n",
    "lst_x = []\n",
    "lst_y = []\n",
    "\n",
    "# Collect the indices where x and y occur\n",
    "for i in range(len(lst)):\n",
    "    if lst[i] == x:\n",
    "        lst_x.append(i)\n",
    "    if lst[i] == y:\n",
    "        lst_y.append(i)\n",
    "\n",
    "# If x or y doesn't exist in the list, return -1\n",
    "if len(lst_x) == 0 or len(lst_y) == 0:\n",
    "    print(-1)\n",
    "else:\n",
    "    ans = float('inf')  # Start with a large value for minimum comparison\n",
    "\n",
    "    # Calculate the minimum distance between x and y\n",
    "    for i in lst_x:\n",
    "        for j in lst_y:\n",
    "            ans = min(ans, abs(j - i - 1))  # abs(j - i - 1) gives the distance excluding the middle element\n",
    "\n",
    "    print(ans)\n"
   ]
  }
 ],
 "metadata": {
  "kernelspec": {
   "display_name": "base",
   "language": "python",
   "name": "python3"
  },
  "language_info": {
   "codemirror_mode": {
    "name": "ipython",
    "version": 3
   },
   "file_extension": ".py",
   "mimetype": "text/x-python",
   "name": "python",
   "nbconvert_exporter": "python",
   "pygments_lexer": "ipython3",
   "version": "3.11.4"
  }
 },
 "nbformat": 4,
 "nbformat_minor": 2
}
