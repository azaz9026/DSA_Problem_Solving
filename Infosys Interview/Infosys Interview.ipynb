{
 "cells": [
  {
   "cell_type": "markdown",
   "metadata": {},
   "source": [
    "# Q1- Print 1 to n."
   ]
  },
  {
   "cell_type": "code",
   "execution_count": 10,
   "metadata": {},
   "outputs": [
    {
     "name": "stdout",
     "output_type": "stream",
     "text": [
      "1\n",
      "2\n",
      "3\n",
      "4\n",
      "5\n"
     ]
    }
   ],
   "source": [
    "def print_numbers(i, n):\n",
    "    if i > n:\n",
    "        return\n",
    "    else:\n",
    "        print(i)  # Print the current number\n",
    "        print_numbers(i + 1, n)  # Recursive call for the next number\n",
    "\n",
    "num = int(input(\"Enter a number: \"))\n",
    "print_numbers(1, num)  # Start printing from 1 up to num\n"
   ]
  },
  {
   "cell_type": "code",
   "execution_count": 13,
   "metadata": {},
   "outputs": [
    {
     "name": "stdout",
     "output_type": "stream",
     "text": [
      "5\n",
      "4\n",
      "3\n",
      "2\n",
      "1\n"
     ]
    }
   ],
   "source": [
    "def print_numbers(i):\n",
    "    if i == 0:\n",
    "        return\n",
    "    else:\n",
    "        print(i)  # Print the current number\n",
    "        print_numbers(i-1)  # Recursive call for the next number\n",
    "\n",
    "num = int(input(\"Enter a number: \"))\n",
    "print_numbers(num)  # Start printing from 1 up to num"
   ]
  },
  {
   "cell_type": "markdown",
   "metadata": {},
   "source": [
    "# Q2 - Remove duplicates in a sorted array."
   ]
  },
  {
   "cell_type": "code",
   "execution_count": 9,
   "metadata": {},
   "outputs": [
    {
     "name": "stdout",
     "output_type": "stream",
     "text": [
      "Array after removing duplicates: [1, 2, 3, 4, 5, 6]\n",
      "New length of the array: 6\n"
     ]
    }
   ],
   "source": [
    "def remove_duplicates(nums):\n",
    "    if not nums:\n",
    "        return 0\n",
    "\n",
    "\n",
    "    i = 0\n",
    "    for j in range(1, len(nums)):\n",
    "        if nums[i] != nums[j]:\n",
    "            i += 1\n",
    "            nums[i] = nums[j]\n",
    "    \n",
    "    return i + 1\n",
    "\n",
    "\n",
    "# Reading input from the user\n",
    "nums = list(map(int, input().split()))\n",
    "\n",
    "# Call the function to remove duplicates\n",
    "result = remove_duplicates(nums)\n",
    "\n",
    "# Print the results\n",
    "print(f\"Array after removing duplicates: {nums[:result]}\")\n",
    "print(f\"New length of the array: {result}\")\n",
    "\n"
   ]
  },
  {
   "cell_type": "code",
   "execution_count": null,
   "metadata": {},
   "outputs": [],
   "source": [
    "def remove_duplicates(nums):\n",
    "    if not nums:\n",
    "        return 0\n",
    "    \n",
    "    # Sort the array\n",
    "    nums.sort()\n",
    "\n",
    "    i = 0\n",
    "    for j in range(1, len(nums)):\n",
    "        if nums[i] != nums[j]:\n",
    "            i += 1\n",
    "            nums[i] = nums[j]\n",
    "    \n",
    "    return i + 1\n",
    "\n",
    "\n",
    "# Reading input from the user\n",
    "nums = list(map(int, input().split()))\n",
    "\n",
    "# Call the function to remove duplicates\n",
    "result = remove_duplicates(nums)\n",
    "\n",
    "# Print the results\n",
    "print(f\"Array after removing duplicates: {nums[:result]}\")\n",
    "print(f\"New length of the array: {result}\")\n"
   ]
  },
  {
   "cell_type": "code",
   "execution_count": null,
   "metadata": {},
   "outputs": [],
   "source": [
    "import math\n",
    "\n",
    "# Function to calculate the squared distance between two points\n",
    "def distance_squared(p1, p2):\n",
    "    return (p1[0] - p2[0])**2 + (p1[1] - p2[1])**2\n",
    "\n",
    "def is_square(points):\n",
    "    if len(points) != 4:\n",
    "        return False\n",
    "\n",
    "    # Calculate all six pairwise distances\n",
    "    dists = [\n",
    "        distance_squared(points[0], points[1]),\n",
    "        distance_squared(points[0], points[2]),\n",
    "        distance_squared(points[0], points[3]),\n",
    "        distance_squared(points[1], points[2]),\n",
    "        distance_squared(points[1], points[3]),\n",
    "        distance_squared(points[2], points[3])\n",
    "    ]\n",
    "\n",
    "    # Sort distances\n",
    "    dists.sort()\n",
    "\n",
    "    # Check if we have four equal smaller distances (sides) and two equal larger distances (diagonals)\n",
    "    return dists[0] == dists[1] == dists[2] == dists[3] and dists[4] == dists[5] and dists[4] > dists[0]\n",
    "\n",
    "# Input points\n",
    "points = []\n",
    "for i in range(4):\n",
    "    x, y = map(int, input(f\"Enter coordinates of point {i+1} (x y): \").split())\n",
    "    points.append((x, y))\n",
    "\n",
    "# Check if points form a square\n",
    "if is_square(points):\n",
    "    print(\"The points form a square.\")\n",
    "else:\n",
    "    print(\"The points do not form a square.\")\n"
   ]
  },
  {
   "cell_type": "markdown",
   "metadata": {},
   "source": [
    "# Q3- Check if 4 points form a square."
   ]
  },
  {
   "cell_type": "code",
   "execution_count": null,
   "metadata": {},
   "outputs": [],
   "source": [
    "\n",
    "def distance_squared(p1 , p2):\n",
    "    return (p1[0] - p2[0])**2 - (p1[0] - p2[0]**2)\n",
    "\n",
    "\n",
    "import math\n",
    "\n",
    "# Function to calculate the squared distance between two points\n",
    "def distance_squared(p1, p2):\n",
    "    return (p1[0] - p2[0])**2 + (p1[1] - p2[1])**2\n",
    "\n",
    "def is_square(points):\n",
    "    # Ensure there are exactly 4 points\n",
    "    if len(points) != 4:\n",
    "        return False\n",
    "\n",
    "    # Calculate all six pairwise distances\n",
    "    dists = [\n",
    "        distance_squared(points[0], points[1]),\n",
    "        distance_squared(points[0], points[2]),\n",
    "        distance_squared(points[0], points[3]),\n",
    "        distance_squared(points[1], points[2]),\n",
    "        distance_squared(points[1], points[3]),\n",
    "        distance_squared(points[2], points[3])\n",
    "    ]\n",
    "\n",
    "    # Sort distances\n",
    "    dists.sort()\n",
    "\n",
    "    # Check if there are four equal smaller distances (sides) and two equal larger distances (diagonals)\n",
    "    return dists[0] == dists[1] == dists[2] == dists[3] and dists[4] == dists[5] and dists[4] > dists[0]\n",
    "\n",
    "# Input points from the user\n",
    "points = []\n",
    "for i in range(4):\n",
    "    x, y = map(int, input(f\"Enter coordinates of point {i+1} (x y): \").split())\n",
    "    points.append((x, y))\n",
    "\n",
    "# Check if points form a square\n",
    "if is_square(points):\n",
    "    print(\"The points form a square.\")\n",
    "else:\n",
    "    print(\"The points do not form a square.\")\n",
    "\n"
   ]
  },
  {
   "cell_type": "markdown",
   "metadata": {},
   "source": [
    "# Q4- Number of factors of a given number."
   ]
  },
  {
   "cell_type": "code",
   "execution_count": 21,
   "metadata": {},
   "outputs": [
    {
     "name": "stdout",
     "output_type": "stream",
     "text": [
      "Number of factors of 28: 6\n"
     ]
    }
   ],
   "source": [
    "import math \n",
    "\n",
    "def count_factors(n):\n",
    "    count = 0\n",
    "    # Iterate from 1 to sqrt(n)\n",
    "    for i in range(1, int(math.sqrt(n)) + 1):\n",
    "        if n % i == 0:  # Check if i is a divisor\n",
    "            count += 1\n",
    "            if i != n // i:  # If i is not equal to its complement, count both\n",
    "                count += 1\n",
    "    return count\n",
    "\n",
    "# Input from the user\n",
    "n = int(input(\"Enter a number: \"))\n",
    "\n",
    "# Call the function and print the result\n",
    "res = count_factors(n)\n",
    "print(f\"Number of factors of {n}: {res}\")\n"
   ]
  }
 ],
 "metadata": {
  "kernelspec": {
   "display_name": "base",
   "language": "python",
   "name": "python3"
  },
  "language_info": {
   "codemirror_mode": {
    "name": "ipython",
    "version": 3
   },
   "file_extension": ".py",
   "mimetype": "text/x-python",
   "name": "python",
   "nbconvert_exporter": "python",
   "pygments_lexer": "ipython3",
   "version": "3.11.4"
  }
 },
 "nbformat": 4,
 "nbformat_minor": 2
}
