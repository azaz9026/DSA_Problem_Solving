{
 "cells": [
  {
   "cell_type": "code",
   "execution_count": 1,
   "metadata": {},
   "outputs": [
    {
     "name": "stdout",
     "output_type": "stream",
     "text": [
      "[1, 3, 12, 5, 7, 0, 0, 0, 0]\n"
     ]
    }
   ],
   "source": [
    "def moving_zero(arr):\n",
    "    res = []\n",
    "    count = 0\n",
    "    for i in arr:\n",
    "        if i == 0:\n",
    "            count += 1\n",
    "        else:\n",
    "            res.append(i)\n",
    "\n",
    "    res.extend([0] * count)\n",
    "    return res\n",
    "\n",
    "\n",
    "# Example usage\n",
    "arr = [0, 1, 0, 3, 12, 0, 5, 0, 7]\n",
    "result = moving_zero(arr)\n",
    "print(result)  # Output: [1, 3, 12, 5, 7, 0, 0, 0, 0]"
   ]
  },
  {
   "cell_type": "code",
   "execution_count": 2,
   "metadata": {},
   "outputs": [
    {
     "name": "stdout",
     "output_type": "stream",
     "text": [
      "[1, 3, 12, 5, 7, 0, 0, 0, 0]\n"
     ]
    }
   ],
   "source": [
    "def moving_zero(arr):\n",
    "\n",
    "    non_zero = [x for x in arr if x != 0]\n",
    "\n",
    "    zero_ele = [x for x in arr if x == 0]\n",
    "\n",
    "    return non_zero + zero_ele\n",
    "    \n",
    "\n",
    "# Example usage\n",
    "arr = [0, 1, 0, 3, 12, 0, 5, 0, 7]\n",
    "result = moving_zero(arr)\n",
    "print(result)  # Output: [1, 3, 12, 5, 7, 0, 0, 0, 0]"
   ]
  },
  {
   "cell_type": "code",
   "execution_count": 4,
   "metadata": {},
   "outputs": [
    {
     "name": "stdout",
     "output_type": "stream",
     "text": [
      "[1, 3, 12, 5, 7, 0, 0, 0, 0]\n"
     ]
    }
   ],
   "source": [
    "def moving_zero(arr):\n",
    "\n",
    "    non_zero = []\n",
    "    zero_ele = []\n",
    "\n",
    "    for i in arr:\n",
    "        if i != 0:\n",
    "            non_zero.append(i)\n",
    "        else:\n",
    "            zero_ele.append(i)\n",
    "            \n",
    "\n",
    "\n",
    "    return non_zero + zero_ele\n",
    "    \n",
    "\n",
    "# Example usage\n",
    "arr = [0, 1, 0, 3, 12, 0, 5, 0, 7]\n",
    "result = moving_zero(arr)\n",
    "print(result)  # Output: [1, 3, 12, 5, 7, 0, 0, 0, 0]"
   ]
  }
 ],
 "metadata": {
  "kernelspec": {
   "display_name": "base",
   "language": "python",
   "name": "python3"
  },
  "language_info": {
   "codemirror_mode": {
    "name": "ipython",
    "version": 3
   },
   "file_extension": ".py",
   "mimetype": "text/x-python",
   "name": "python",
   "nbconvert_exporter": "python",
   "pygments_lexer": "ipython3",
   "version": "3.11.4"
  }
 },
 "nbformat": 4,
 "nbformat_minor": 2
}
