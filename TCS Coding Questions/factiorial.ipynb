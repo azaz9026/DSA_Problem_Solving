{
 "cells": [
  {
   "cell_type": "markdown",
   "metadata": {},
   "source": [
    "***You can calculate the factorial of a number without using multiplication by using addition and recursion. Here's a Python example:***"
   ]
  },
  {
   "cell_type": "code",
   "execution_count": 5,
   "metadata": {},
   "outputs": [
    {
     "name": "stdout",
     "output_type": "stream",
     "text": [
      "Factorial of 5 is 120\n"
     ]
    }
   ],
   "source": [
    "def add(a , b):\n",
    "    sum = 0\n",
    "    for _ in range(b):\n",
    "        sum += a\n",
    "    return sum\n",
    "\n",
    "\n",
    "def factorial(n):\n",
    "    if n == 0 or n == 1:\n",
    "        return 1 \n",
    "    else:\n",
    "        return add( n , factorial(n-1))\n",
    "\n",
    "\n",
    "# Example usage\n",
    "\n",
    "number = 5\n",
    "result = factorial(number)\n",
    "print(f'Factorial of {number} is {result}')"
   ]
  },
  {
   "cell_type": "markdown",
   "metadata": {},
   "source": [
    "***Recursive Case: Otherwise, the factorial of n is n multiplied by the factorial of n-1.***"
   ]
  },
  {
   "cell_type": "code",
   "execution_count": 8,
   "metadata": {},
   "outputs": [
    {
     "name": "stdout",
     "output_type": "stream",
     "text": [
      "Factorial of 5 is 120\n"
     ]
    }
   ],
   "source": [
    "\n",
    "def factorial(n):\n",
    "    if n == 0 or n == 1:\n",
    "        return 1\n",
    "    else:\n",
    "        return n * factorial(n-1)\n",
    "\n",
    "\n",
    "\n",
    "# Example usage\n",
    "\n",
    "number = 5\n",
    "result = factorial(number)\n",
    "print(f'Factorial of {number} is {result}')"
   ]
  },
  {
   "cell_type": "markdown",
   "metadata": {},
   "source": [
    "***You can calculate the factorial of a number using a loop in Python. Here's how:***"
   ]
  },
  {
   "cell_type": "code",
   "execution_count": 12,
   "metadata": {},
   "outputs": [
    {
     "name": "stdout",
     "output_type": "stream",
     "text": [
      "Factorial of 5 is 120\n"
     ]
    }
   ],
   "source": [
    "def factorial(n):\n",
    "    ans = 1\n",
    "\n",
    "    if n == 0 or n == 1:\n",
    "        return 1\n",
    "\n",
    "    for i in range(2 , n+1):\n",
    "        ans *= i\n",
    "    return ans\n",
    "\n",
    "\n",
    "# Example usage\n",
    "\n",
    "number = 5\n",
    "result = factorial(number)\n",
    "print(f'Factorial of {number} is {result}')"
   ]
  },
  {
   "cell_type": "code",
   "execution_count": null,
   "metadata": {},
   "outputs": [],
   "source": [
    "\n",
    "\n",
    "\n",
    "# Example usage\n",
    "\n",
    "number = 5\n",
    "result = factorial(number)\n",
    "print(f'Factorial of {number} is {result}')"
   ]
  }
 ],
 "metadata": {
  "kernelspec": {
   "display_name": "base",
   "language": "python",
   "name": "python3"
  },
  "language_info": {
   "codemirror_mode": {
    "name": "ipython",
    "version": 3
   },
   "file_extension": ".py",
   "mimetype": "text/x-python",
   "name": "python",
   "nbconvert_exporter": "python",
   "pygments_lexer": "ipython3",
   "version": "3.11.4"
  }
 },
 "nbformat": 4,
 "nbformat_minor": 2
}
