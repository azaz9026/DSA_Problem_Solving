{
 "cells": [
  {
   "cell_type": "code",
   "execution_count": 4,
   "metadata": {},
   "outputs": [
    {
     "name": "stdout",
     "output_type": "stream",
     "text": [
      "Two Wheeler = 0 and Four Wheeler = 200\n"
     ]
    }
   ],
   "source": [
    "# Get input from user\n",
    "v = int(input(\"Enter the total number of vehicles: \"))\n",
    "w = int(input(\"Enter the number of wheels: \"))\n",
    "\n",
    "# Validate input\n",
    "if w < 2 or w <= v:\n",
    "    print(\"Invalid Number\")\n",
    "else:\n",
    "    # Calculate the number of two wheelers and four wheelers\n",
    "    tw = ((v*4)-w)//2\n",
    "    fw = v - tw\n",
    "    \n",
    "    # Print the result\n",
    "    print(f\"Two Wheeler = {tw} and Four Wheeler = {fw}\")\n",
    "\n"
   ]
  }
 ],
 "metadata": {
  "kernelspec": {
   "display_name": "base",
   "language": "python",
   "name": "python3"
  },
  "language_info": {
   "codemirror_mode": {
    "name": "ipython",
    "version": 3
   },
   "file_extension": ".py",
   "mimetype": "text/x-python",
   "name": "python",
   "nbconvert_exporter": "python",
   "pygments_lexer": "ipython3",
   "version": "3.11.4"
  }
 },
 "nbformat": 4,
 "nbformat_minor": 2
}
