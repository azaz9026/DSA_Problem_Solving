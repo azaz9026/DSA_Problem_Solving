{
 "cells": [
  {
   "cell_type": "code",
   "execution_count": 2,
   "metadata": {},
   "outputs": [
    {
     "name": "stdout",
     "output_type": "stream",
     "text": [
      "6\n"
     ]
    }
   ],
   "source": [
    "def countpair(arr):\n",
    "\n",
    "    even = 0\n",
    "    odd = 0\n",
    "\n",
    "    for i in arr:\n",
    "        if i % 2 == 0:\n",
    "            even += 1\n",
    "        else:\n",
    "            odd += 1\n",
    "\n",
    "    even_pairs = (even * (even-1))//2\n",
    "    odd_pairs = (odd * (odd-1))//2\n",
    "\n",
    "    total_pairs = even_pairs + odd_pairs\n",
    "\n",
    "    return total_pairs\n",
    "\n",
    "\n",
    "# Example usage\n",
    "arr = [1, 2, 3, 4, 5, 6]\n",
    "print(countpair(arr))"
   ]
  },
  {
   "cell_type": "code",
   "execution_count": 4,
   "metadata": {},
   "outputs": [
    {
     "name": "stdout",
     "output_type": "stream",
     "text": [
      "6\n"
     ]
    }
   ],
   "source": [
    "def countpair(arr):\n",
    "\n",
    "    count = 0\n",
    "\n",
    "    for i in range(len(arr)):\n",
    "        for j in range(i+1 , len(arr)):\n",
    "            if (arr[j] + arr[i]) % 2 == 0:\n",
    "                count += 1\n",
    "    return count\n",
    "\n",
    "\n",
    "\n",
    "# Example usage\n",
    "arr = [1, 2, 3, 4, 5, 6]\n",
    "print(countpair(arr))"
   ]
  },
  {
   "cell_type": "code",
   "execution_count": 3,
   "metadata": {},
   "outputs": [
    {
     "name": "stdout",
     "output_type": "stream",
     "text": [
      "15\n"
     ]
    }
   ],
   "source": [
    "def countpair(arr):\n",
    "\n",
    "    n = len(arr)\n",
    "\n",
    "    total_pairs = (n * (n-1)) // 2\n",
    "    return total_pairs\n",
    "\n",
    "\n",
    "# Example usage\n",
    "arr = [1, 2, 3, 4, 5, 6]\n",
    "print(countpair(arr))"
   ]
  }
 ],
 "metadata": {
  "kernelspec": {
   "display_name": "base",
   "language": "python",
   "name": "python3"
  },
  "language_info": {
   "codemirror_mode": {
    "name": "ipython",
    "version": 3
   },
   "file_extension": ".py",
   "mimetype": "text/x-python",
   "name": "python",
   "nbconvert_exporter": "python",
   "pygments_lexer": "ipython3",
   "version": "3.11.4"
  }
 },
 "nbformat": 4,
 "nbformat_minor": 2
}
