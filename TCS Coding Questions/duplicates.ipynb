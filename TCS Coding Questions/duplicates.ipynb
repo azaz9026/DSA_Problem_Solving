{
 "cells": [
  {
   "cell_type": "markdown",
   "metadata": {},
   "source": [
    "***Here is a Python solution that removes duplicates from a sorted array in-place:***\n"
   ]
  },
  {
   "cell_type": "code",
   "execution_count": 7,
   "metadata": {},
   "outputs": [
    {
     "name": "stdout",
     "output_type": "stream",
     "text": [
      "New length: 5\n",
      "Array after removing duplicates: [1, 2, 3, 4, 5]\n"
     ]
    }
   ],
   "source": [
    "def remove_duplicates(nums):\n",
    "    if not nums:\n",
    "        return 0\n",
    "    \n",
    "    # Initialize the slow pointer\n",
    "    slow = 0\n",
    "    \n",
    "    # Iterate with the fast pointer\n",
    "    for fast in range(1, len(nums)):\n",
    "        if nums[fast] != nums[slow]:\n",
    "            slow += 1\n",
    "            nums[slow] = nums[fast]\n",
    "    \n",
    "    # Return the length of the array without duplicates\n",
    "    return slow + 1\n",
    "\n",
    "# Example usage:\n",
    "nums = [1, 1, 2, 2, 3, 4, 4, 5]\n",
    "new_length = remove_duplicates(nums)\n",
    "print(f\"New length: {new_length}\")\n",
    "print(f\"Array after removing duplicates: {nums[:new_length]}\")\n"
   ]
  },
  {
   "cell_type": "code",
   "execution_count": 8,
   "metadata": {},
   "outputs": [
    {
     "name": "stdout",
     "output_type": "stream",
     "text": [
      "New length: 5\n",
      "Array after removing duplicates: [1, 2, 3, 4, 5]\n"
     ]
    }
   ],
   "source": [
    "def remove_duplicates(nums):\n",
    "    if not nums:\n",
    "        return 0\n",
    "    \n",
    "    unique_index = 1  # Start from the second element\n",
    "    \n",
    "    for i in range(1, len(nums)):\n",
    "        if nums[i] != nums[i - 1]:\n",
    "            nums[unique_index] = nums[i]\n",
    "            unique_index += 1\n",
    "    \n",
    "    # Slice the array to keep only unique elements\n",
    "    nums[:] = nums[:unique_index]\n",
    "    \n",
    "    return unique_index\n",
    "\n",
    "# Example usage:\n",
    "nums = [1, 1, 2, 2, 3, 4, 4, 5]\n",
    "new_length = remove_duplicates(nums)\n",
    "print(f\"New length: {new_length}\")\n",
    "print(f\"Array after removing duplicates: {nums}\")\n"
   ]
  },
  {
   "cell_type": "code",
   "execution_count": 9,
   "metadata": {},
   "outputs": [
    {
     "name": "stdout",
     "output_type": "stream",
     "text": [
      "New length: 5\n",
      "Array after removing duplicates: [1, 2, 3, 4, 5]\n"
     ]
    }
   ],
   "source": [
    "def remove_duplicates(nums):\n",
    "    # Convert the list to a set to remove duplicates\n",
    "    nums[:] = sorted(set(nums))\n",
    "    \n",
    "    # Return the length of the unique elements list\n",
    "    return len(nums)\n",
    "\n",
    "# Example usage:\n",
    "nums = [1, 1, 2, 2, 3, 4, 4, 5]\n",
    "new_length = remove_duplicates(nums)\n",
    "print(f\"New length: {new_length}\")\n",
    "print(f\"Array after removing duplicates: {nums}\")\n"
   ]
  }
 ],
 "metadata": {
  "kernelspec": {
   "display_name": "base",
   "language": "python",
   "name": "python3"
  },
  "language_info": {
   "codemirror_mode": {
    "name": "ipython",
    "version": 3
   },
   "file_extension": ".py",
   "mimetype": "text/x-python",
   "name": "python",
   "nbconvert_exporter": "python",
   "pygments_lexer": "ipython3",
   "version": "3.11.4"
  }
 },
 "nbformat": 4,
 "nbformat_minor": 2
}
