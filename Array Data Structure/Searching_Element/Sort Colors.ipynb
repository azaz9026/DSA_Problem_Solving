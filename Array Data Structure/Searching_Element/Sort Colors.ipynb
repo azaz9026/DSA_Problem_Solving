{
 "cells": [
  {
   "cell_type": "markdown",
   "metadata": {},
   "source": [
    "# Sort Colors"
   ]
  },
  {
   "cell_type": "markdown",
   "metadata": {},
   "source": [
    "***The problem can be solved using the Dutch National Flag algorithm, which was designed by Edsger Dijkstra. This algorithm partitions the array into three sections:***"
   ]
  },
  {
   "cell_type": "code",
   "execution_count": 7,
   "metadata": {},
   "outputs": [],
   "source": [
    "def sort_colors(nums):\n",
    "    curr = 0\n",
    "    p0 = 0\n",
    "    p2 = len(nums)-1\n",
    "\n",
    "    while curr <= p2:\n",
    "        if nums[curr] == 0:\n",
    "            # Swap with nums[curr] and nums[p0]\n",
    "            nums[p0] , nums[curr] = nums[curr] , nums[p0]\n",
    "            p0 += 1 \n",
    "            curr += 1\n",
    "\n",
    "        elif nums[curr] == 2:\n",
    "            # Swap with nums[curr] and nums[p2]\n",
    "            nums[p2] , nums[curr] = nums[curr] , nums[p2]\n",
    "            p2 -= 1\n",
    "        \n",
    "        else:\n",
    "            curr += 1\n",
    "    return nums\n"
   ]
  },
  {
   "cell_type": "code",
   "execution_count": 6,
   "metadata": {},
   "outputs": [
    {
     "name": "stdout",
     "output_type": "stream",
     "text": [
      "[0, 0, 1, 1, 2, 2]\n"
     ]
    }
   ],
   "source": [
    "# Example usage\n",
    "nums = [2, 0, 2, 1, 1, 0]\n",
    "print(sort_colors(nums))  # Output: [0, 0, 1, 1, 2, 2]"
   ]
  }
 ],
 "metadata": {
  "kernelspec": {
   "display_name": "Python 3",
   "language": "python",
   "name": "python3"
  },
  "language_info": {
   "codemirror_mode": {
    "name": "ipython",
    "version": 3
   },
   "file_extension": ".py",
   "mimetype": "text/x-python",
   "name": "python",
   "nbconvert_exporter": "python",
   "pygments_lexer": "ipython3",
   "version": "3.10.7"
  }
 },
 "nbformat": 4,
 "nbformat_minor": 2
}
