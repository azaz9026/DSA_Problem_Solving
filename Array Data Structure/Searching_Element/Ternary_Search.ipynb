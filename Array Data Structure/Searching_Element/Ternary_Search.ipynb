{
 "cells": [
  {
   "cell_type": "markdown",
   "metadata": {},
   "source": [
    "# Ternary Search\n"
   ]
  },
  {
   "cell_type": "code",
   "execution_count": 16,
   "metadata": {},
   "outputs": [],
   "source": [
    "def Ternary_Search(arr , target):\n",
    "    i = 0\n",
    "    j = len(arr)-1\n",
    "\n",
    "    while i <= j:\n",
    "        mid_1 = i + (j - i) // 3\n",
    "        mid_2 = j - (j - i) // 3\n",
    "\n",
    "        if arr[mid_1] == target:\n",
    "            return mid_1\n",
    "        if arr[mid_2] == target:\n",
    "            return mid_2\n",
    "        if  target < arr[mid_1]:\n",
    "            j = mid_1 - 1\n",
    "        elif target > arr[mid_2]:\n",
    "            i = mid_2 +1\n",
    "        else:\n",
    "            i = mid_1 + 1\n",
    "            j = mid_2 - 1\n",
    "    return -1\n",
    "\n"
   ]
  },
  {
   "cell_type": "code",
   "execution_count": 15,
   "metadata": {},
   "outputs": [
    {
     "name": "stdout",
     "output_type": "stream",
     "text": [
      "4\n"
     ]
    }
   ],
   "source": [
    "# Test the function\n",
    "arr = [1, 2, 3, 4, 5, 6, 7, 8, 9, 10, 11, 12]\n",
    "target = 5\n",
    "\n",
    "result = Ternary_Search(arr, target)\n",
    "print(result)  # Should print 4"
   ]
  }
 ],
 "metadata": {
  "kernelspec": {
   "display_name": "Python 3",
   "language": "python",
   "name": "python3"
  },
  "language_info": {
   "codemirror_mode": {
    "name": "ipython",
    "version": 3
   },
   "file_extension": ".py",
   "mimetype": "text/x-python",
   "name": "python",
   "nbconvert_exporter": "python",
   "pygments_lexer": "ipython3",
   "version": "3.10.7"
  }
 },
 "nbformat": 4,
 "nbformat_minor": 2
}
