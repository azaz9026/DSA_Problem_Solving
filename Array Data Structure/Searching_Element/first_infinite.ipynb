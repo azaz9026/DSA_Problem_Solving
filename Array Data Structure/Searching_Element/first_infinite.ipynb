{
 "cells": [
  {
   "cell_type": "markdown",
   "metadata": {},
   "source": [
    "# Implement Linear Search for Infinite Values"
   ]
  },
  {
   "cell_type": "markdown",
   "metadata": {},
   "source": [
    "***Implementation in Python***\n",
    "\n",
    "***Here is the implementation of the linear search for finding the first infinite value in an array:***"
   ]
  },
  {
   "cell_type": "markdown",
   "metadata": {},
   "source": [
    "***# Function Definition***"
   ]
  },
  {
   "cell_type": "code",
   "execution_count": 1,
   "metadata": {},
   "outputs": [],
   "source": [
    "def findFirstInfinite(arr):\n",
    "    for i in range(len(arr)):\n",
    "        if arr[i] == float('inf'):\n",
    "            return i\n",
    "    return -1"
   ]
  },
  {
   "cell_type": "markdown",
   "metadata": {},
   "source": [
    "***# Function call***"
   ]
  },
  {
   "cell_type": "code",
   "execution_count": 2,
   "metadata": {},
   "outputs": [
    {
     "name": "stdout",
     "output_type": "stream",
     "text": [
      "First infinite number is at index 5\n"
     ]
    }
   ],
   "source": [
    "# Example usage\n",
    "arr = [1, 2, 3, 4, 5, float('inf'), 7, 8, float('inf'), 10]\n",
    "\n",
    "\n",
    "result = findFirstInfinite(arr)\n",
    "\n",
    "if result != -1:\n",
    "    print(\"First infinite number is at index\", result)\n",
    "else:\n",
    "    print(\"No infinite number found\")"
   ]
  },
  {
   "cell_type": "markdown",
   "metadata": {},
   "source": [
    "***# Function Definition***"
   ]
  },
  {
   "cell_type": "code",
   "execution_count": 3,
   "metadata": {},
   "outputs": [],
   "source": [
    "def findFirstInfinite(arr):\n",
    "    i = 0\n",
    "    j = len(arr) - 1\n",
    "    \n",
    "    while i <= j:\n",
    "        mid = i + (j - i) // 2\n",
    "        \n",
    "        if arr[mid] == float('inf'):\n",
    "            # Check if it's the first infinite value\n",
    "            if mid == 0 or arr[mid - 1] != float('inf'):\n",
    "                return mid\n",
    "            else:\n",
    "                j = mid - 1\n",
    "        else:\n",
    "            i = mid + 1\n",
    "    \n",
    "    return -1  # Return -1 if no infinite value is found\n",
    "\n"
   ]
  },
  {
   "cell_type": "markdown",
   "metadata": {},
   "source": [
    "***# Function call***"
   ]
  },
  {
   "cell_type": "code",
   "execution_count": 4,
   "metadata": {},
   "outputs": [
    {
     "name": "stdout",
     "output_type": "stream",
     "text": [
      "First infinite value is at index 5\n"
     ]
    }
   ],
   "source": [
    "# Example usage\n",
    "arr = [1, 2, 3, 4, 5, float('inf'), float('inf'), float('inf'), float('inf'), float('inf')]\n",
    "\n",
    "result = findFirstInfinite(arr)\n",
    "\n",
    "if result != -1:\n",
    "    print(f'First infinite value is at index {result}')\n",
    "else:\n",
    "    print('No infinite value found in the array')\n"
   ]
  }
 ],
 "metadata": {
  "kernelspec": {
   "display_name": "Python 3",
   "language": "python",
   "name": "python3"
  },
  "language_info": {
   "codemirror_mode": {
    "name": "ipython",
    "version": 3
   },
   "file_extension": ".py",
   "mimetype": "text/x-python",
   "name": "python",
   "nbconvert_exporter": "python",
   "pygments_lexer": "ipython3",
   "version": "3.10.7"
  }
 },
 "nbformat": 4,
 "nbformat_minor": 2
}
