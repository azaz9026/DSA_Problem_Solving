{
 "cells": [
  {
   "cell_type": "markdown",
   "metadata": {},
   "source": [
    "# Binary Search Algorithm"
   ]
  },
  {
   "cell_type": "code",
   "execution_count": 2,
   "metadata": {},
   "outputs": [
    {
     "name": "stdout",
     "output_type": "stream",
     "text": [
      "0\n"
     ]
    }
   ],
   "source": [
    "\n",
    "def Binary_Search(array, target):\n",
    "    \n",
    "    low = 0\n",
    "    high = len(array)-1\n",
    "\n",
    "    \n",
    "\n",
    "    while low <= high:\n",
    "        mid_point = low  + (high - low) // 2\n",
    "        if array[mid_point] == target:\n",
    "            return mid_point\n",
    "        elif array[mid_point] < target:\n",
    "            low = array[mid_point] + 1\n",
    "        else :\n",
    "            high = array[mid_point] - 1\n",
    "    return -1\n",
    "\n",
    "\n",
    "\n",
    "array = [1, 2, 3, 4, 5, 6, 7, 8, 9, 10]\n",
    "target = 1\n",
    "\n",
    "result = Binary_Search(array , target)\n",
    "\n",
    "print(result)\n",
    "\n"
   ]
  }
 ],
 "metadata": {
  "kernelspec": {
   "display_name": "Python 3",
   "language": "python",
   "name": "python3"
  },
  "language_info": {
   "codemirror_mode": {
    "name": "ipython",
    "version": 3
   },
   "file_extension": ".py",
   "mimetype": "text/x-python",
   "name": "python",
   "nbconvert_exporter": "python",
   "pygments_lexer": "ipython3",
   "version": "3.10.7"
  }
 },
 "nbformat": 4,
 "nbformat_minor": 2
}
