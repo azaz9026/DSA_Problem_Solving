{
 "cells": [
  {
   "cell_type": "markdown",
   "metadata": {},
   "source": [
    "# Binary Search Algorithm\n",
    "\n",
    "***The binary search algorithm is a highly efficient method for finding an element in a sorted array. The algorithm works by repeatedly dividing the search interval in half, making it logarithmic in time complexity, specifically O(log n)***"
   ]
  },
  {
   "cell_type": "markdown",
   "metadata": {},
   "source": [
    "# Implementation of Binary Search using recursion"
   ]
  },
  {
   "cell_type": "markdown",
   "metadata": {},
   "source": [
    "***# Function Definition***"
   ]
  },
  {
   "cell_type": "code",
   "execution_count": 12,
   "metadata": {},
   "outputs": [],
   "source": [
    "## Implementation of Binary Search using recursion\n",
    "## Function Definition\n",
    "\n",
    "\n",
    "def Binary_Search(array , low , high , target):\n",
    "\n",
    "    while low <= high:\n",
    "\n",
    "        mid_point = low + (high - low) // 2\n",
    "\n",
    "        if array[mid_point] == target:\n",
    "            return mid_point\n",
    "        ## recusion-> calling the same function again \n",
    "        ## with different set of parameters\n",
    "        elif array[mid_point] < target:\n",
    "            return Binary_Search(array , mid_point+1 , high , target)\n",
    "        else:\n",
    "            return Binary_Search(array , low , mid_point-1 , target)\n",
    "\n",
    "     ## Searching element is not present in the array\n",
    "    return -1\n",
    "\n"
   ]
  },
  {
   "cell_type": "markdown",
   "metadata": {},
   "source": [
    "***# Driver code***"
   ]
  },
  {
   "cell_type": "code",
   "execution_count": null,
   "metadata": {},
   "outputs": [],
   "source": [
    "## Driver code\n",
    "## Sorted array\n",
    "array = [1, 2, 3, 4, 5, 6, 7, 8, 9, 10]\n",
    "target = 55\n",
    "\n",
    "low = 0\n",
    "high = len(array)-1"
   ]
  },
  {
   "cell_type": "markdown",
   "metadata": {},
   "source": [
    "***# Function call***"
   ]
  },
  {
   "cell_type": "code",
   "execution_count": 13,
   "metadata": {},
   "outputs": [
    {
     "name": "stdout",
     "output_type": "stream",
     "text": [
      "Element not found in the array\n"
     ]
    }
   ],
   "source": [
    "## Function call\n",
    "result = Binary_Search(array  , low , high , target)\n",
    "\n",
    "\n",
    "if result != -1:\n",
    "    print(f'Searching Element {array[result]} is present at the index {result}')\n",
    "else:\n",
    "    print('Element not found in the array')"
   ]
  },
  {
   "cell_type": "markdown",
   "metadata": {},
   "source": [
    "# Implementation of Binary Search without using recursion\n",
    "\n",
    "***Function Definition***"
   ]
  },
  {
   "cell_type": "code",
   "execution_count": 20,
   "metadata": {},
   "outputs": [
    {
     "name": "stdout",
     "output_type": "stream",
     "text": [
      "Element not found in the array\n"
     ]
    }
   ],
   "source": [
    "## Implementation of Binary Search without using recursion\n",
    "## Function Definition\n",
    "\n",
    "def binarySearch(arr , i , j ,target):\n",
    "\n",
    "    while i <= j :\n",
    "        mid = i + (j-i) // 2\n",
    "\n",
    "        if arr[mid] == target:\n",
    "            return mid\n",
    "        elif arr[mid] < target:\n",
    "            ## update the i parameter\n",
    "            i = mid+1\n",
    "        else:\n",
    "            ## update the j parameter\n",
    "            j = mid-1\n",
    "     ## Searching element is not present in the array\n",
    "    return -1\n"
   ]
  },
  {
   "cell_type": "markdown",
   "metadata": {},
   "source": [
    "***# Driver code***"
   ]
  },
  {
   "cell_type": "code",
   "execution_count": null,
   "metadata": {},
   "outputs": [],
   "source": [
    "## Driver code\n",
    "## Sorted array\n",
    "\n",
    "arr = [1, 2, 3, 4, 5, 6, 7, 8, 9, 10]\n",
    "target = 55\n",
    "\n",
    "i = 0\n",
    "j = len(arr)-1\n",
    "\n",
    "\n"
   ]
  },
  {
   "cell_type": "markdown",
   "metadata": {},
   "source": [
    "***# Function call***"
   ]
  },
  {
   "cell_type": "code",
   "execution_count": null,
   "metadata": {},
   "outputs": [],
   "source": [
    "\n",
    "## Function call\n",
    "result = binarySearch(arr , i , j , target)\n",
    "\n",
    "# Output the result\n",
    "if result != -1:\n",
    "    print(f'Searching Element {arr[result]} is present at the index {result}')\n",
    "else:\n",
    "    print('Element not found in the array')"
   ]
  }
 ],
 "metadata": {
  "kernelspec": {
   "display_name": "Python 3",
   "language": "python",
   "name": "python3"
  },
  "language_info": {
   "codemirror_mode": {
    "name": "ipython",
    "version": 3
   },
   "file_extension": ".py",
   "mimetype": "text/x-python",
   "name": "python",
   "nbconvert_exporter": "python",
   "pygments_lexer": "ipython3",
   "version": "3.10.7"
  }
 },
 "nbformat": 4,
 "nbformat_minor": 2
}
