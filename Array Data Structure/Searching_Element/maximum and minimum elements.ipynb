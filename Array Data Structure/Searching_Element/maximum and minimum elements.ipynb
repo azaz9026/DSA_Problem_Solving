{
 "cells": [
  {
   "cell_type": "markdown",
   "metadata": {},
   "source": [
    "# maximum and minimum elements in an array\n"
   ]
  },
  {
   "cell_type": "code",
   "execution_count": 11,
   "metadata": {},
   "outputs": [],
   "source": [
    "#  # Function Definition \n",
    "\n",
    "def findMaxAndMin(arr):\n",
    "    max_element = float('-inf')\n",
    "    min_element = float('inf')\n",
    "\n",
    "    for i in range(len(arr)):\n",
    "        if arr[i] > max_element:\n",
    "            max_element  = arr[i]\n",
    "        if arr[i] < min_element:\n",
    "             min_element = arr[i] \n",
    "    \n",
    "    return max_element , min_element\n"
   ]
  },
  {
   "cell_type": "code",
   "execution_count": 13,
   "metadata": {},
   "outputs": [
    {
     "name": "stdout",
     "output_type": "stream",
     "text": [
      "Max Element: 7, Min Element: 1\n"
     ]
    }
   ],
   "source": [
    "# Example usage\n",
    "arr = [7, 1, 5, 3, 6, 4]\n",
    "max_element, min_element = findMaxAndMin(arr)\n",
    "print(f\"Max Element: {max_element}, Min Element: {min_element}\")"
   ]
  }
 ],
 "metadata": {
  "kernelspec": {
   "display_name": "base",
   "language": "python",
   "name": "python3"
  },
  "language_info": {
   "codemirror_mode": {
    "name": "ipython",
    "version": 3
   },
   "file_extension": ".py",
   "mimetype": "text/x-python",
   "name": "python",
   "nbconvert_exporter": "python",
   "pygments_lexer": "ipython3",
   "version": "3.11.4"
  }
 },
 "nbformat": 4,
 "nbformat_minor": 2
}
