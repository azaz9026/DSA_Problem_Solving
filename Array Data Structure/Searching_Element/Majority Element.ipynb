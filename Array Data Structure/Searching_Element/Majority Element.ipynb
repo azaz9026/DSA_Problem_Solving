{
 "cells": [
  {
   "cell_type": "markdown",
   "metadata": {},
   "source": [
    "# Majority Element\n",
    "\n",
    "***FAANG Interview Question on Arrays - Majority Element***"
   ]
  },
  {
   "cell_type": "code",
   "execution_count": 2,
   "metadata": {},
   "outputs": [],
   "source": [
    "import collections"
   ]
  },
  {
   "cell_type": "code",
   "execution_count": 17,
   "metadata": {},
   "outputs": [],
   "source": [
    "from collections import Counter\n",
    "\n",
    "def majority_element(arr):\n",
    "    counts = Counter(arr)\n",
    "    print(counts)\n",
    "    Majority_Element = max(counts.keys() , key = counts.get)\n",
    "    return Majority_Element\n",
    "\n"
   ]
  },
  {
   "cell_type": "code",
   "execution_count": 15,
   "metadata": {},
   "outputs": [
    {
     "name": "stdout",
     "output_type": "stream",
     "text": [
      "Counter({4: 5, 3: 2, 2: 2})\n",
      "4\n",
      "Counter({3: 5, 4: 5, 2: 2})\n",
      "3\n"
     ]
    }
   ],
   "source": [
    "# Example usage\n",
    "arr = [3, 3, 4, 2, 4, 4, 2, 4, 4]\n",
    "print(majority_element(arr))  # Output: 4\n",
    "\n",
    "arr2 = [3, 3, 4, 2, 4, 4, 2, 4, 4, 3, 3, 3]\n",
    "print(majority_element(arr2))  # Output: 3"
   ]
  },
  {
   "cell_type": "markdown",
   "metadata": {},
   "source": [
    "# Approaches :-2"
   ]
  },
  {
   "cell_type": "code",
   "execution_count": 36,
   "metadata": {},
   "outputs": [
    {
     "name": "stdout",
     "output_type": "stream",
     "text": [
      "3\n",
      "3\n"
     ]
    }
   ],
   "source": [
    "def majority_element(nums):\n",
    "   # First pass to find the candidate\n",
    "   candidate = None\n",
    "   count = 0\n",
    "   for num in nums:\n",
    "    if count == 0:\n",
    "        candidate = num\n",
    "    count += (1 if num == count else -1)\n",
    "   return candidate \n",
    "\n",
    "\n",
    " \n",
    "\n",
    "# Example usage\n",
    "arr = [3, 3, 4, 2, 4, 4, 2, 4, 4]\n",
    "print(majority_element(arr))  # Output: 4\n",
    "\n",
    "arr2 = [3, 3, 4, 2, 4, 4, 2, 4, 4, 3, 3, 3]\n",
    "print(majority_element(arr2))  # Output: 3"
   ]
  }
 ],
 "metadata": {
  "kernelspec": {
   "display_name": "Python 3",
   "language": "python",
   "name": "python3"
  },
  "language_info": {
   "codemirror_mode": {
    "name": "ipython",
    "version": 3
   },
   "file_extension": ".py",
   "mimetype": "text/x-python",
   "name": "python",
   "nbconvert_exporter": "python",
   "pygments_lexer": "ipython3",
   "version": "3.10.7"
  }
 },
 "nbformat": 4,
 "nbformat_minor": 2
}
