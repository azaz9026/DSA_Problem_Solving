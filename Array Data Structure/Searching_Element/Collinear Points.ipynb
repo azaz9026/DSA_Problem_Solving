{
 "cells": [
  {
   "cell_type": "markdown",
   "metadata": {},
   "source": [
    "# Collinear Points"
   ]
  },
  {
   "cell_type": "code",
   "execution_count": 10,
   "metadata": {},
   "outputs": [],
   "source": [
    "def iscollinearPoints(x1, x2, x3, y1, y2, y3):\n",
    "\n",
    "    # Using cross multiplication to avoid division\n",
    "    if ((y2 - y1)*(x3 - x2) == (y3 - y2)*(x2 - x1)):\n",
    "        print(\"Points are collinear\")\n",
    "    else:\n",
    "        print(\"Points are not collinear\")"
   ]
  },
  {
   "cell_type": "code",
   "execution_count": 12,
   "metadata": {},
   "outputs": [
    {
     "name": "stdout",
     "output_type": "stream",
     "text": [
      "Points are collinear\n"
     ]
    }
   ],
   "source": [
    "## Driver code\n",
    "x1, x2, x3, y1, y2, y3 = 1,1,1,6,0,9\n",
    "result = iscollinearPoints(x1, x2, x3, y1, y2, y3)\n",
    "result"
   ]
  },
  {
   "cell_type": "markdown",
   "metadata": {},
   "source": [
    "***Certainly! Let's dive into a detailed example of a FAANG interview question involving collinear points in an array, along with a comprehensive solution.***"
   ]
  },
  {
   "cell_type": "code",
   "execution_count": 29,
   "metadata": {},
   "outputs": [],
   "source": [
    "def are_collinear(points):\n",
    "    # Check if there are fewer than 3 points\n",
    "    if len(points) < 3:\n",
    "        return True\n",
    "\n",
    "    # Get the first point\n",
    "    x1 , y1 = points[0]\n",
    "\n",
    "    # Calculate the slope with respect to the first point\n",
    "    for i in range(1 , len(points)-1):\n",
    "        x2 , y2 = points[i]\n",
    "        x3 , y3 = points[i+1]\n",
    "\n",
    "        # Using cross multiplication to avoid division\n",
    "        if (y2 - y1) * (x3 - x2) != (y3 - y2) * (x2 - x1):\n",
    "            print('Points are collinear')\n",
    "        else:\n",
    "            print('Points are not collinear')\n",
    "\n"
   ]
  },
  {
   "cell_type": "code",
   "execution_count": 31,
   "metadata": {},
   "outputs": [
    {
     "name": "stdout",
     "output_type": "stream",
     "text": [
      "Points are not collinear\n"
     ]
    }
   ],
   "source": [
    "# Example usage\n",
    "points = [(1, 2), (2, 4), (3, 6)]\n",
    "are_collinear(points)  # Output: True\n"
   ]
  }
 ],
 "metadata": {
  "kernelspec": {
   "display_name": "Python 3",
   "language": "python",
   "name": "python3"
  },
  "language_info": {
   "codemirror_mode": {
    "name": "ipython",
    "version": 3
   },
   "file_extension": ".py",
   "mimetype": "text/x-python",
   "name": "python",
   "nbconvert_exporter": "python",
   "pygments_lexer": "ipython3",
   "version": "3.10.7"
  }
 },
 "nbformat": 4,
 "nbformat_minor": 2
}
