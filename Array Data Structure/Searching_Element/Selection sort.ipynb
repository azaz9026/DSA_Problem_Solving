{
 "cells": [
  {
   "cell_type": "markdown",
   "metadata": {},
   "source": [
    "# Selection sort\n",
    "\n",
    "***Selection sort is another simple sorting algorithm. It works by repeatedly finding the minimum element from the unsorted part of the array and moving it to the sorted part.***"
   ]
  },
  {
   "cell_type": "code",
   "execution_count": 1,
   "metadata": {},
   "outputs": [],
   "source": [
    "def selection_sort(arr):\n",
    "    n = len(arr)\n",
    "\n",
    "    for i in range(0 , n):\n",
    "        min_indx = i\n",
    "        for j in range(i+1 , n):\n",
    "            if arr[j] < arr[min_indx]:\n",
    "                min_indx = j\n",
    "        # Swap the found minimum element with the first element\n",
    "        arr[i] , arr[min_indx] = arr[min_indx] , arr[i]\n",
    "    \n",
    "    return arr\n",
    "    "
   ]
  },
  {
   "cell_type": "code",
   "execution_count": 2,
   "metadata": {},
   "outputs": [
    {
     "name": "stdout",
     "output_type": "stream",
     "text": [
      "Sorted array: [11, 12, 22, 25, 64]\n"
     ]
    }
   ],
   "source": [
    "# Test the function\n",
    "arr = [64, 25, 12, 22, 11]\n",
    "sorted_arr = selection_sort(arr)\n",
    "print(\"Sorted array:\", sorted_arr)"
   ]
  }
 ],
 "metadata": {
  "kernelspec": {
   "display_name": "Python 3",
   "language": "python",
   "name": "python3"
  },
  "language_info": {
   "codemirror_mode": {
    "name": "ipython",
    "version": 3
   },
   "file_extension": ".py",
   "mimetype": "text/x-python",
   "name": "python",
   "nbconvert_exporter": "python",
   "pygments_lexer": "ipython3",
   "version": "3.10.7"
  }
 },
 "nbformat": 4,
 "nbformat_minor": 2
}
