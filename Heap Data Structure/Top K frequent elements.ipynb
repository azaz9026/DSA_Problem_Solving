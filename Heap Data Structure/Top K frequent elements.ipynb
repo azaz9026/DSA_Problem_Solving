{
 "cells": [
  {
   "cell_type": "markdown",
   "metadata": {},
   "source": [
    "# Top K Frequent Elements"
   ]
  },
  {
   "cell_type": "code",
   "execution_count": 13,
   "metadata": {},
   "outputs": [],
   "source": [
    "import collections\n",
    "import heapq\n",
    "from collections import Counter\n",
    "\n",
    "def TopkFrequentElements(nums, k):\n",
    "    count =  Counter(nums)\n",
    "    return heapq.nlargest(k , count.keys() , key=count.get)\n",
    "\n",
    "\n"
   ]
  },
  {
   "cell_type": "code",
   "execution_count": 15,
   "metadata": {},
   "outputs": [
    {
     "name": "stdout",
     "output_type": "stream",
     "text": [
      "[1, 2]\n"
     ]
    }
   ],
   "source": [
    "# Example Usage\n",
    "nums = [1, 1, 1, 2, 2, 3]\n",
    "k = 2\n",
    "print(TopkFrequentElements(nums, k))"
   ]
  },
  {
   "cell_type": "markdown",
   "metadata": {},
   "source": [
    "***another Implementation:***"
   ]
  },
  {
   "cell_type": "code",
   "execution_count": 30,
   "metadata": {},
   "outputs": [],
   "source": [
    "from heapq import heappush, heappop\n",
    "from collections import Counter\n",
    "\n",
    "def TopkFrequentElements (nums , k):\n",
    "    # Step 1: Count the frequency of each element\n",
    "    count = Counter(nums)\n",
    "\n",
    "    # Step 2: Use a heap to find the top k elements\n",
    "    heap = []\n",
    "\n",
    "    for num , freq in count.items():\n",
    "        heappush(heap , (num , freq))\n",
    "        if len(heap) > k:\n",
    "            heappop(heap) # Maintain the heap size to k\n",
    "\n",
    "    # Step 3: Extract the elements from the heap\n",
    "\n",
    "    result = []\n",
    "\n",
    "    for i in range(len(heap)):\n",
    "        result.append(heappop(heap)[1])\n",
    "        result.reverse()\n",
    "    return result\n",
    "\n"
   ]
  },
  {
   "cell_type": "code",
   "execution_count": 31,
   "metadata": {},
   "outputs": [
    {
     "name": "stdout",
     "output_type": "stream",
     "text": [
      "[1, 2]\n"
     ]
    }
   ],
   "source": [
    "# Example Usage\n",
    "nums = [1, 1, 1, 2, 2, 3]\n",
    "k = 2\n",
    "print(TopkFrequentElements(nums, k))"
   ]
  }
 ],
 "metadata": {
  "kernelspec": {
   "display_name": "Python 3",
   "language": "python",
   "name": "python3"
  },
  "language_info": {
   "codemirror_mode": {
    "name": "ipython",
    "version": 3
   },
   "file_extension": ".py",
   "mimetype": "text/x-python",
   "name": "python",
   "nbconvert_exporter": "python",
   "pygments_lexer": "ipython3",
   "version": "3.10.7"
  }
 },
 "nbformat": 4,
 "nbformat_minor": 2
}
