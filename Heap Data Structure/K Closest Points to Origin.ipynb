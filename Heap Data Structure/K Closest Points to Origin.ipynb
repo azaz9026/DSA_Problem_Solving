{
 "cells": [
  {
   "cell_type": "markdown",
   "metadata": {},
   "source": [
    "# K Closest Points to Origin"
   ]
  },
  {
   "cell_type": "code",
   "execution_count": 3,
   "metadata": {},
   "outputs": [],
   "source": [
    "from heapq import heappush , heappop\n",
    "import math\n",
    "\n",
    "\n",
    "def get_dist(x,y):\n",
    "    return math.sqrt(x**2 + y**2)\n",
    "\n",
    "def kClosest(point , k):\n",
    "    n = len(point)\n",
    "    min_heap = []\n",
    "    for i in range(n):\n",
    "        x = point[i][0]\n",
    "        y = point[i][0]\n",
    "        heappush(min_heap , ( get_dist(x,y) , point[i] ))\n",
    "    \n",
    "    result = []\n",
    "    for i in range(k):\n",
    "        result.append(heappop(min_heap)[1])\n",
    "    return result\n"
   ]
  },
  {
   "cell_type": "code",
   "execution_count": 4,
   "metadata": {},
   "outputs": [
    {
     "name": "stdout",
     "output_type": "stream",
     "text": [
      "[[-2, 4], [3, 3]]\n"
     ]
    }
   ],
   "source": [
    "point  = [[3,3],[5,-1],[-2,4]]\n",
    "k = 2\n",
    "result = kClosest(point , k)\n",
    "print(result)"
   ]
  }
 ],
 "metadata": {
  "kernelspec": {
   "display_name": "Python 3",
   "language": "python",
   "name": "python3"
  },
  "language_info": {
   "codemirror_mode": {
    "name": "ipython",
    "version": 3
   },
   "file_extension": ".py",
   "mimetype": "text/x-python",
   "name": "python",
   "nbconvert_exporter": "python",
   "pygments_lexer": "ipython3",
   "version": "3.10.7"
  }
 },
 "nbformat": 4,
 "nbformat_minor": 2
}
