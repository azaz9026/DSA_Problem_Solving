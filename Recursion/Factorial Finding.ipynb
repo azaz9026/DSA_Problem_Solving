{
 "cells": [
  {
   "cell_type": "markdown",
   "metadata": {},
   "source": [
    "# Factorial Finding using Recursion with its Implementation"
   ]
  },
  {
   "cell_type": "code",
   "execution_count": 5,
   "metadata": {},
   "outputs": [],
   "source": [
    "# Recursion with its Implementation\n",
    "# Function Definition\n",
    "\n",
    "def findFactorial(n):\n",
    "    # Base Case Condition\n",
    "    # Small problem\n",
    "    if n == 0 or n == 1:\n",
    "        return 1\n",
    "    # Big problem\n",
    "    else:\n",
    "        return n * findFactorial(n-1)\n"
   ]
  },
  {
   "cell_type": "code",
   "execution_count": 6,
   "metadata": {},
   "outputs": [
    {
     "name": "stdout",
     "output_type": "stream",
     "text": [
      "The Factorial of a given number is :-  120\n"
     ]
    }
   ],
   "source": [
    "# Driver code \n",
    "n = 5\n",
    "# calling function\n",
    "result = findFactorial(n)\n",
    "print('The Factorial of a given number is :- ' , result)"
   ]
  },
  {
   "cell_type": "markdown",
   "metadata": {},
   "source": [
    "# iterative with its Implementation"
   ]
  },
  {
   "cell_type": "code",
   "execution_count": 9,
   "metadata": {},
   "outputs": [],
   "source": [
    "# Function Definition\n",
    "def findFactorial(n):\n",
    "    result = 1\n",
    "    if n == 0 or n == 1:\n",
    "        return 1\n",
    "    else:\n",
    "        for i in range(2 , n+1):\n",
    "            result = result * i\n",
    "        return result"
   ]
  },
  {
   "cell_type": "code",
   "execution_count": 10,
   "metadata": {},
   "outputs": [
    {
     "name": "stdout",
     "output_type": "stream",
     "text": [
      "The Factorial of a given number is :-  120\n"
     ]
    }
   ],
   "source": [
    "# Driver code \n",
    "n = 5\n",
    "# calling function\n",
    "result = findFactorial(n)\n",
    "print('The Factorial of a given number is :- ' , result)"
   ]
  }
 ],
 "metadata": {
  "kernelspec": {
   "display_name": "Python 3",
   "language": "python",
   "name": "python3"
  },
  "language_info": {
   "codemirror_mode": {
    "name": "ipython",
    "version": 3
   },
   "file_extension": ".py",
   "mimetype": "text/x-python",
   "name": "python",
   "nbconvert_exporter": "python",
   "pygments_lexer": "ipython3",
   "version": "3.10.7"
  }
 },
 "nbformat": 4,
 "nbformat_minor": 2
}
