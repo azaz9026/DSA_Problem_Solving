{
 "cells": [
  {
   "cell_type": "markdown",
   "metadata": {},
   "source": [
    "# Count Of number of ways to reach upstairs"
   ]
  },
  {
   "cell_type": "code",
   "execution_count": 22,
   "metadata": {},
   "outputs": [
    {
     "name": "stdout",
     "output_type": "stream",
     "text": [
      "Number of ways to reach step 0: 1\n",
      "Number of ways to reach step 1: 1\n",
      "Number of ways to reach step 2: 2\n",
      "Number of ways to reach step 3: 3\n",
      "Number of ways to reach step 4: 5\n"
     ]
    }
   ],
   "source": [
    "# Function to return the number of ways to reach the n-th step\n",
    "def countWays(n):\n",
    "    if n == 0 or n == 1:\n",
    "        return 1\n",
    "    else:\n",
    "        return countWays(n-1) + countWays(n-2)\n",
    "\n",
    "# Driver code \n",
    "n = 5\n",
    "\n",
    "for i in range(n):\n",
    "    # calling function\n",
    "    result = countWays(i)\n",
    "    print(f\"Number of ways to reach step {i}: {result}\")"
   ]
  },
  {
   "cell_type": "code",
   "execution_count": 23,
   "metadata": {},
   "outputs": [
    {
     "name": "stdout",
     "output_type": "stream",
     "text": [
      "Number of ways to reach step 0: 1\n",
      "Number of ways to reach step 1: 1\n",
      "Number of ways to reach step 2: 2\n",
      "Number of ways to reach step 3: 3\n",
      "Number of ways to reach step 4: 5\n"
     ]
    }
   ],
   "source": [
    "# Function to return the number of ways to reach the n-th step\n",
    "def helper(n):\n",
    "    if n == 0 or n == 1:\n",
    "        return n\n",
    "    else:\n",
    "        return helper(n-1) + helper(n-2)\n",
    "\n",
    "def countWays(n):\n",
    "    return helper(n+1)\n",
    "\n",
    "# Driver code \n",
    "n = 5\n",
    "\n",
    "for i in range(n):\n",
    "    # calling function\n",
    "    result = countWays(i)\n",
    "    print(f\"Number of ways to reach step {i}: {result}\")"
   ]
  }
 ],
 "metadata": {
  "kernelspec": {
   "display_name": "Python 3",
   "language": "python",
   "name": "python3"
  },
  "language_info": {
   "codemirror_mode": {
    "name": "ipython",
    "version": 3
   },
   "file_extension": ".py",
   "mimetype": "text/x-python",
   "name": "python",
   "nbconvert_exporter": "python",
   "pygments_lexer": "ipython3",
   "version": "3.11.4"
  }
 },
 "nbformat": 4,
 "nbformat_minor": 2
}
